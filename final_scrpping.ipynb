{
 "cells": [
  {
   "cell_type": "code",
   "execution_count": 1,
   "metadata": {},
   "outputs": [
    {
     "name": "stdout",
     "output_type": "stream",
     "text": [
      "https://www.nagariknews.com/category/81?page=1\n",
      "https://www.nagariknews.com/news/47094/\n",
      "https://www.nagariknews.com/news/author/990\n"
     ]
    },
    {
     "ename": "AttributeError",
     "evalue": "'NoneType' object has no attribute 'text'",
     "output_type": "error",
     "traceback": [
      "\u001b[0;31m---------------------------------------------------------------------------\u001b[0m",
      "\u001b[0;31mAttributeError\u001b[0m                            Traceback (most recent call last)",
      "\u001b[0;32m<ipython-input-1-6cd630d1a3e5>\u001b[0m in \u001b[0;36m<module>\u001b[0;34m()\u001b[0m\n\u001b[1;32m     68\u001b[0m \u001b[0;34m\u001b[0m\u001b[0m\n\u001b[1;32m     69\u001b[0m \u001b[0;32mfor\u001b[0m \u001b[0mpage\u001b[0m \u001b[0;32min\u001b[0m \u001b[0mrange\u001b[0m\u001b[0;34m(\u001b[0m\u001b[0;36m1\u001b[0m\u001b[0;34m,\u001b[0m\u001b[0;36m31\u001b[0m\u001b[0;34m)\u001b[0m\u001b[0;34m:\u001b[0m\u001b[0;34m\u001b[0m\u001b[0m\n\u001b[0;32m---> 70\u001b[0;31m     \u001b[0mget_urls\u001b[0m\u001b[0;34m(\u001b[0m\u001b[0;34m\"https://www.nagariknews.com/category/81?page=%d\"\u001b[0m\u001b[0;34m%\u001b[0m\u001b[0;34m(\u001b[0m\u001b[0mpage\u001b[0m\u001b[0;34m)\u001b[0m\u001b[0;34m,\u001b[0m\u001b[0;34m\"opinion\"\u001b[0m\u001b[0;34m)\u001b[0m\u001b[0;34m\u001b[0m\u001b[0m\n\u001b[0m\u001b[1;32m     71\u001b[0m \u001b[0;34m\u001b[0m\u001b[0m\n\u001b[1;32m     72\u001b[0m \u001b[0;31m#for page in range(1,31):\u001b[0m\u001b[0;34m\u001b[0m\u001b[0;34m\u001b[0m\u001b[0m\n",
      "\u001b[0;32m<ipython-input-1-6cd630d1a3e5>\u001b[0m in \u001b[0;36mget_urls\u001b[0;34m(cat_url, category_name)\u001b[0m\n\u001b[1;32m     24\u001b[0m         \u001b[0mprint\u001b[0m\u001b[0;34m(\u001b[0m\u001b[0murl\u001b[0m\u001b[0;34m)\u001b[0m\u001b[0;34m\u001b[0m\u001b[0m\n\u001b[1;32m     25\u001b[0m         \u001b[0msoup\u001b[0m\u001b[0;34m=\u001b[0m\u001b[0mread_page\u001b[0m\u001b[0;34m(\u001b[0m\u001b[0murl\u001b[0m\u001b[0;34m)\u001b[0m\u001b[0;34m\u001b[0m\u001b[0m\n\u001b[0;32m---> 26\u001b[0;31m         \u001b[0mtext_data\u001b[0m\u001b[0;34m=\u001b[0m\u001b[0mcrawl_page\u001b[0m\u001b[0;34m(\u001b[0m\u001b[0msoup\u001b[0m\u001b[0;34m)\u001b[0m\u001b[0;34m\u001b[0m\u001b[0m\n\u001b[0m\u001b[1;32m     27\u001b[0m \u001b[0;34m\u001b[0m\u001b[0m\n\u001b[1;32m     28\u001b[0m \u001b[0;34m\u001b[0m\u001b[0m\n",
      "\u001b[0;32m<ipython-input-1-6cd630d1a3e5>\u001b[0m in \u001b[0;36mcrawl_page\u001b[0;34m(soup)\u001b[0m\n\u001b[1;32m     28\u001b[0m \u001b[0;34m\u001b[0m\u001b[0m\n\u001b[1;32m     29\u001b[0m \u001b[0;32mdef\u001b[0m \u001b[0mcrawl_page\u001b[0m\u001b[0;34m(\u001b[0m\u001b[0msoup\u001b[0m\u001b[0;34m)\u001b[0m\u001b[0;34m:\u001b[0m\u001b[0;34m\u001b[0m\u001b[0m\n\u001b[0;32m---> 30\u001b[0;31m     \u001b[0;32mreturn\u001b[0m \u001b[0;34m\"–\"\u001b[0m\u001b[0;34m.\u001b[0m\u001b[0mjoin\u001b[0m\u001b[0;34m(\u001b[0m\u001b[0msoup\u001b[0m\u001b[0;34m.\u001b[0m\u001b[0mfind\u001b[0m\u001b[0;34m(\u001b[0m\u001b[0;34m\"div\"\u001b[0m\u001b[0;34m,\u001b[0m\u001b[0mattrs\u001b[0m\u001b[0;34m=\u001b[0m\u001b[0;34m{\u001b[0m\u001b[0;34m\"id\"\u001b[0m\u001b[0;34m:\u001b[0m\u001b[0;34m\"newsContent\"\u001b[0m\u001b[0;34m}\u001b[0m\u001b[0;34m)\u001b[0m\u001b[0;34m.\u001b[0m\u001b[0mtext\u001b[0m\u001b[0;34m.\u001b[0m\u001b[0mstrip\u001b[0m\u001b[0;34m(\u001b[0m\u001b[0;34m)\u001b[0m\u001b[0;34m.\u001b[0m\u001b[0msplit\u001b[0m\u001b[0;34m(\u001b[0m\u001b[0;34mu\"–\"\u001b[0m\u001b[0;34m)\u001b[0m\u001b[0;34m[\u001b[0m\u001b[0;36m1\u001b[0m\u001b[0;34m:\u001b[0m\u001b[0;34m]\u001b[0m\u001b[0;34m)\u001b[0m\u001b[0;34m.\u001b[0m\u001b[0mlstrip\u001b[0m\u001b[0;34m(\u001b[0m\u001b[0;34m)\u001b[0m\u001b[0;34m\u001b[0m\u001b[0m\n\u001b[0m\u001b[1;32m     31\u001b[0m \u001b[0;34m\u001b[0m\u001b[0m\n\u001b[1;32m     32\u001b[0m \u001b[0;34m\u001b[0m\u001b[0m\n",
      "\u001b[0;31mAttributeError\u001b[0m: 'NoneType' object has no attribute 'text'"
     ]
    }
   ],
   "source": [
    "from bs4 import BeautifulSoup\n",
    "from importlib import reload\n",
    "import urllib.request  as urllib2 \n",
    "import sys,string,os\n",
    "import re,time\n",
    "from urllib.parse import urljoin\n",
    "reload(sys)\n",
    "\n",
    "\n",
    "default_url = \"https://www.nagariknews.com\"\n",
    "def get_urls(cat_url,category_name):\n",
    "    print(cat_url)\n",
    "    soup=read_page(cat_url)\n",
    "   \n",
    "    \n",
    "    urls = [links[\"href\"] for divs in soup.find_all(\"div\",attrs={\"class\":\"col-sm-9 left-on\"}) for links in divs.findAll(\"a\") if \"news\" in links[\"href\"] and \"news.id\" not in links[\"href\"]]\n",
    "    \n",
    "   \n",
    "    \n",
    "    for url in urls:\n",
    "        \n",
    "        file_name = category_name + url.replace(\"/news/\",\"\")[:-1] + \".txt\"\n",
    "        file_decorator = open(file_name,\"w\")\n",
    "        url = urljoin(default_url,url)\n",
    "        #print(url)\n",
    "        soup=read_page(url)\n",
    "        text_data=crawl_page(soup)\n",
    "        file_decorator.write(text_data)\n",
    "        file_decorator.close()\n",
    "                \n",
    "def crawl_page(soup):\n",
    "    return \"–\".join(soup.find(\"div\",attrs={\"id\":\"newsContent\"}).text.strip().split(u\"–\")[1:]).lstrip()\n",
    "\n",
    "\n",
    "def read_page(url):\n",
    "    url_data = urllib2.urlopen(url)\n",
    "    time.sleep(5)\n",
    "    page_data = url_data.read()\n",
    "    soup = BeautifulSoup(page_data,\"lxml\")\n",
    "    soup.prettify()\n",
    "    return soup\n",
    "\n",
    "\n",
    "for page in range(1,31):\n",
    "    get_urls(\"https://www.nagariknews.com/category/22?page=%d\"%(page),\"economy\")\n",
    "\n",
    "for page in range(1,31):\n",
    "    get_urls(\"https://www.nagariknews.com/category/21?page=%d\"%(page),\"politics\")\n",
    "\n",
    "for page in range(23,31):\n",
    "    get_urls(\"https://www.nagariknews.com/category/24?page=%d\"%(page),\"society\")\n",
    "    \n",
    "for page in range(1,31):\n",
    "    get_urls(\"https://www.nagariknews.com/category/25?page=%d\"%(page),\"art\")\n",
    "    \n",
    "for page in range(4,31):\n",
    "    get_urls(\"https://www.nagariknews.com/category/26?page=%d\"%(page),\"sports\")\n",
    "\n",
    "for page in range(1,31):\n",
    "    get_urls(\"https://www.nagariknews.com/category/27?page=%d\"%(page),\"world\")\n",
    "    \n",
    "for page in range(1,31):\n",
    "    get_urls(\"https://www.nagariknews.com/category/28?page=%d\"%(page),\"prabash\")   \n",
    "    \n",
    "for page in range(1,31):\n",
    "    get_urls(\"https://www.nagariknews.com/category/33?page=%d\"%(page),\"technology\")\n",
    "    \n",
    "for page in range(1,31):\n",
    "    get_urls(\"https://www.nagariknews.com/category/31?page=%d\"%(page),\"health\")\n",
    "    \n",
    "for page in range(1,31):\n",
    "    get_urls(\"https://www.nagariknews.com/category/81?page=%d\"%(page),\"opinion\")\n",
    "    \n",
    "for page in range(1,31):\n",
    "    get_urls(\"https://www.nagariknews.com/category/82?page=%d\"%(page),\"interview\")\n"
   ]
  },
  {
   "cell_type": "code",
   "execution_count": null,
   "metadata": {},
   "outputs": [],
   "source": []
  }
 ],
 "metadata": {
  "kernelspec": {
   "display_name": "Python 3",
   "language": "python",
   "name": "python3"
  },
  "language_info": {
   "codemirror_mode": {
    "name": "ipython",
    "version": 3
   },
   "file_extension": ".py",
   "mimetype": "text/x-python",
   "name": "python",
   "nbconvert_exporter": "python",
   "pygments_lexer": "ipython3",
   "version": "3.6.5"
  }
 },
 "nbformat": 4,
 "nbformat_minor": 2
}
